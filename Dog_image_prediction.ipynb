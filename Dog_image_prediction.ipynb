{
  "cells": [
    {
      "cell_type": "markdown",
      "source": [
        "**CNN-based Veterinary Animal Disease Detection**\n",
        "\n",
        "\n",
        "\n",
        "\n",
        "**1.Problem Statement**\n",
        "\n",
        "Animals can suffer from various diseases that are hard to identify visually by owners.\n",
        "This project builds a CNN-based system to detect animal diseases from images and provide advice\n",
        "for treatment or precaution.\n",
        "\n",
        "**2. Objectives**\n",
        "- Detect diseases in animal images using CNN.\n",
        "- Provide treatment suggestions based on predicted disease.\n",
        "- Evaluate model performance using metrics like accuracy, F1-score.\n",
        "- Help owners take timely action for animal care.\n",
        "\n",
        "\n",
        "**3. Dataset Description**\n",
        "- 6 classes: Demodicosis, Dermatitis, Healthy, Hypersensitivity, Ringworm, Fungal_infections\n",
        "- Images split into training   (~70-80%),  validation (~10-15%), and test (~10-15%)\n",
        "- Folder structure example:\n",
        "dataset/\n",
        "train/\n",
        "validation/\n",
        "test/\n",
        "\n",
        "\n",
        "**4. Solution Approach**\n",
        "- Preprocess images: resize to 128x128, normalize pixel values.\n",
        "- Train CNN with Conv2D, MaxPooling2D, BatchNormalization, Dropout.\n",
        "- Use softmax output for 6 classes.\n",
        "- Map predictions to suggestion dictionary for owner advice.\n",
        "- Evaluate using classification report and confusion matrix.\n",
        "\n",
        "\n",
        "**5. CNN Code**\n",
        "# See attached code at the end for training and prediction in Colab.\n",
        "(Training, saving, loading model, prediction with advice.)\n",
        "6. Results\n",
        "- Accuracy on validation: 0.67\n",
        "- Weighted F1-score: 0.66\n",
        "- Best performing classes: Healthy, Demodicosis, Ringworm\n",
        "- Weak classes: Hypersensitivity, Fungal_infections\n",
        "- Sample prediction: 'Image: 1000010494.jpg -> Predicted: Fungal_infections -> Suggestion: Consult\n",
        "a vet for antifungal treatment.'\n",
        "\n",
        "**7. Conclusion**\n",
        "- The CNN-based system can detect animal diseases and provide actionable advice.\n",
        "- Accuracy is good but can improve with more data, augmentation, and fine-tuning.\n",
        "- Ready for deployment in a simple web/mobile interface for animal owners."
      ],
      "metadata": {
        "id": "pMOZLao4X9FT"
      }
    },
    {
      "cell_type": "code",
      "execution_count": null,
      "metadata": {
        "id": "uM-O3S-ycSqh"
      },
      "outputs": [],
      "source": [
        "import zipfile\n",
        "\n",
        "with zipfile.ZipFile(\"/content/archive (1).zip\", \"r\") as zip_ref:\n",
        "    zip_ref.extractall(\"/content/\")\n"
      ]
    },
    {
      "cell_type": "code",
      "execution_count": null,
      "metadata": {
        "id": "37lglzVdnfFW"
      },
      "outputs": [],
      "source": []
    },
    {
      "cell_type": "code",
      "execution_count": null,
      "metadata": {
        "id": "dNLxD6aTn4Pc"
      },
      "outputs": [],
      "source": [
        "import zipfile\n",
        "\n",
        "zip_path = \"/content/archive (1).zip\"  # change name if needed\n",
        "with zipfile.ZipFile(zip_path, \"r\") as zip_ref:\n",
        "    zip_ref.extractall(\"/content/\")\n",
        "print(\"✅ Extracted successfully!\")\n"
      ]
    },
    {
      "cell_type": "code",
      "execution_count": null,
      "metadata": {
        "id": "GlTrWmXyoaJ0"
      },
      "outputs": [],
      "source": []
    },
    {
      "cell_type": "code",
      "execution_count": null,
      "metadata": {
        "id": "0c9L0TaWorac"
      },
      "outputs": [],
      "source": []
    },
    {
      "cell_type": "code",
      "execution_count": null,
      "metadata": {
        "id": "iTbVeBYspAaQ"
      },
      "outputs": [],
      "source": [
        "# ==============================\n",
        "# 🐾 Veterinary Disease Detection using CNN\n",
        "# Author: Akhil\n",
        "# ==============================\n",
        "\n",
        "# 1️⃣ Import libraries\n",
        "import tensorflow as tf\n",
        "from tensorflow.keras.preprocessing.image import ImageDataGenerator\n",
        "from tensorflow.keras.models import Sequential\n",
        "from tensorflow.keras.layers import Conv2D, MaxPooling2D, Flatten, Dense, Dropout, BatchNormalization\n",
        "from tensorflow.keras.optimizers import Adam\n",
        "import matplotlib.pyplot as plt\n",
        "import numpy as np\n",
        "import os\n",
        "\n",
        "# 2️⃣ Paths to dataset (make sure your dataset is extracted in /content)\n",
        "train_path = \"/content/content/dataset/train\"\n",
        "test_path = \"/content/content/dataset/valid\"\n",
        "\n",
        "# 3️⃣ Data preprocessing and augmentation\n",
        "train_datagen = ImageDataGenerator(\n",
        "    rescale=1./255,\n",
        "    rotation_range=25,\n",
        "    width_shift_range=0.1,\n",
        "    height_shift_range=0.1,\n",
        "    zoom_range=0.2,\n",
        "    shear_range=0.2,\n",
        "    horizontal_flip=True,\n",
        "    validation_split=0.2\n",
        ")\n",
        "\n",
        "train_gen = train_datagen.flow_from_directory(\n",
        "    train_path,\n",
        "    target_size=(128, 128),\n",
        "    batch_size=32,\n",
        "    class_mode='categorical',\n",
        "    subset='training'\n",
        ")\n",
        "\n",
        "val_gen = train_datagen.flow_from_directory(\n",
        "    train_path,\n",
        "    target_size=(128, 128),\n",
        "    batch_size=32,\n",
        "    class_mode='categorical',\n",
        "    subset='validation'\n",
        ")\n",
        "\n",
        "# 4️⃣ Define CNN Model\n",
        "model = Sequential([\n",
        "    Conv2D(32, (3,3), activation='relu', input_shape=(128,128,3)),\n",
        "    BatchNormalization(),\n",
        "    MaxPooling2D(2,2),\n",
        "\n",
        "    Conv2D(64, (3,3), activation='relu'),\n",
        "    BatchNormalization(),\n",
        "    MaxPooling2D(2,2),\n",
        "\n",
        "    Conv2D(128, (3,3), activation='relu'),\n",
        "    BatchNormalization(),\n",
        "    MaxPooling2D(2,2),\n",
        "\n",
        "    Flatten(),\n",
        "    Dense(128, activation='relu'),\n",
        "    Dropout(0.4),\n",
        "    Dense(6, activation='softmax')  # 5 classes\n",
        "])\n",
        "\n",
        "# 5️⃣ Compile\n",
        "model.compile(optimizer=Adam(learning_rate=0.0001),\n",
        "              loss='categorical_crossentropy',\n",
        "              metrics=['accuracy'])\n",
        "\n",
        "model.summary()\n",
        "\n",
        "# 6️⃣ Train the model\n",
        "history = model.fit(\n",
        "    train_gen,\n",
        "    validation_data=val_gen,\n",
        "    epochs=20\n",
        ")\n",
        "\n",
        "# 7️⃣ Plot accuracy and loss\n",
        "plt.figure(figsize=(12,5))\n",
        "plt.subplot(1,2,1)\n",
        "plt.plot(history.history['accuracy'], label='Train Acc')\n",
        "plt.plot(history.history['val_accuracy'], label='Val Acc')\n",
        "plt.title('Accuracy')\n",
        "plt.legend()\n",
        "\n",
        "plt.subplot(1,2,2)\n",
        "plt.plot(history.history['loss'], label='Train Loss')\n",
        "plt.plot(history.history['val_loss'], label='Val Loss')\n",
        "plt.title('Loss')\n",
        "plt.legend()\n",
        "plt.show()\n",
        "\n",
        "# 8️⃣ Save the trained model\n",
        "model.save(\"/content/vet_cnn_model.h5\")\n",
        "print(\"✅ Model saved as vet_cnn_model.h5\")\n"
      ]
    },
    {
      "cell_type": "code",
      "source": [],
      "metadata": {
        "id": "gsDsvN6e8iiq"
      },
      "execution_count": null,
      "outputs": []
    },
    {
      "cell_type": "code",
      "execution_count": null,
      "metadata": {
        "id": "BTrMZtuwpblC"
      },
      "outputs": [],
      "source": []
    },
    {
      "cell_type": "code",
      "source": [],
      "metadata": {
        "id": "W4d7azmH8HEp"
      },
      "execution_count": null,
      "outputs": []
    },
    {
      "cell_type": "code",
      "source": [
        "import os\n",
        "\n",
        "test_dir = \"/content/content/dataset/valid\"  # 👈 change to your actual test folder path\n",
        "\n",
        "# 1️⃣ Check if folder exists\n",
        "if not os.path.exists(test_dir):\n",
        "    print(\"❌ Test folder not found! Check your path:\", test_dir)\n",
        "else:\n",
        "    print(\"✅ Test folder found.\")\n",
        "    print(\"📸 Total files:\", len(os.listdir(test_dir)))\n",
        "\n",
        "    # 2️⃣ Print first few filenames\n",
        "    for i, f in enumerate(os.listdir(test_dir)[:10]):\n",
        "        print(f\"🔹\", f)\n"
      ],
      "metadata": {
        "id": "rFMJESaT9O1W"
      },
      "execution_count": null,
      "outputs": []
    },
    {
      "cell_type": "code",
      "source": [],
      "metadata": {
        "id": "r69E5s09-lwA"
      },
      "execution_count": null,
      "outputs": []
    },
    {
      "cell_type": "code",
      "source": [
        "import os\n",
        "import numpy as np\n",
        "import matplotlib.pyplot as plt\n",
        "from tensorflow.keras.preprocessing import image\n",
        "from tensorflow.keras.models import load_model\n",
        "from sklearn.metrics import confusion_matrix, classification_report\n",
        "import seaborn as sns\n",
        "\n",
        "# =========================\n",
        "# 1️⃣ Paths and model\n",
        "# =========================\n",
        "val_dir = \"/content/content/dataset/test\"  # Folder with subfolders for each class\n",
        "model_path = \"/content/vet_cnn_model.h5\"  # Your trained model\n",
        "model = load_model(model_path)\n",
        "\n",
        "\n",
        "suggestions = {\n",
        "    \"demodicosis\": {\n",
        "        \"advice\": \"Visit a veterinary hospital immediately.\",\n",
        "        \"description\": \"Demodicosis (mange) is caused by mites. It needs medicated baths and antiparasitic treatment.\"\n",
        "    },\n",
        "    \"Dermatitis\": {\n",
        "        \"advice\": \"Consult a vet for allergy testing or antibiotics.\",\n",
        "        \"description\": \"Dermatitis can result from allergies, infections, or poor hygiene. Keep the animal clean and avoid irritants.\"\n",
        "    },\n",
        "    \"Healthy\": {\n",
        "        \"advice\": \"No treatment needed.\",\n",
        "        \"description\": \"Your animal looks healthy! Maintain a good diet and hygiene.\"\n",
        "    },\n",
        "    \"Hypersensitivity\": {\n",
        "        \"advice\": \"Consult a vet if symptoms persist.\",\n",
        "        \"description\": \"It may be due to an allergic reaction. Avoid suspected allergens and monitor the animal closely.\"\n",
        "    },\n",
        "    \"ringworm\": {\n",
        "        \"advice\": \"Visit a vet; avoid close contact.\",\n",
        "        \"description\": \"Ringworm is a fungal infection that spreads to humans and other animals. Requires antifungal treatment.\"\n",
        "    },\n",
        "    \"Fungal_infections\": {   # ✅ Add this key\n",
        "        \"advice\": \"Consult a vet for antifungal treatment.\",\n",
        "        \"description\": \"Fungal infections can spread easily. Keep the animal clean and use antifungal medication as prescribed by a vet.\"\n",
        "    }\n",
        "}\n",
        "\n",
        "\n",
        "\n",
        "# =========================\n",
        "# 3️⃣ Class labels\n",
        "# =========================\n",
        "class_labels = sorted(os.listdir(val_dir))  # sorted to maintain consistent order\n",
        "print(\"Classes found:\", class_labels)\n",
        "\n",
        "# =========================\n",
        "# 4️⃣ Store predictions for metrics\n",
        "# =========================\n",
        "y_true = []\n",
        "y_pred = []\n",
        "\n",
        "\n",
        "        # =========================\n",
        "# 5️⃣ Loop through validation folder\n",
        "# =========================\n",
        "count = 0\n",
        "for class_folder in class_labels:\n",
        "    folder_path = os.path.join(val_dir, class_folder)\n",
        "    if not os.path.isdir(folder_path):\n",
        "        continue\n",
        "    for img_name in os.listdir(folder_path):\n",
        "        if not img_name.lower().endswith(('.png','.jpg','.jpeg')):\n",
        "            continue\n",
        "        count += 1\n",
        "        img_path = os.path.join(folder_path, img_name)\n",
        "\n",
        "        # Load & preprocess\n",
        "        img = image.load_img(img_path, target_size=(128,128))\n",
        "        img_array = image.img_to_array(img)\n",
        "        img_array = np.expand_dims(img_array, axis=0)/255.0\n",
        "\n",
        "        # Predict\n",
        "        pred = model.predict(img_array, verbose=0)\n",
        "        pred_class = class_labels[np.argmax(pred)]\n",
        "        confidence = np.max(pred)\n",
        "\n",
        "        # Store for metrics\n",
        "        y_true.append(class_folder)\n",
        "        y_pred.append(pred_class)\n",
        "\n",
        "        # Display image + prediction + suggestion\n",
        "        plt.imshow(img)\n",
        "        plt.axis(\"off\")\n",
        "        plt.title(f\"{pred_class} ({confidence*100:.1f}%)\")\n",
        "        plt.show()\n",
        "\n",
        "        # Print prediction + advice\n",
        "        print(f\"Image: {img_name}\")\n",
        "        print(f\"Predicted Class: {pred_class}\")\n",
        "        print(f\"Confidence: {confidence*100:.2f}%\")\n",
        "        print(f\"Suggestion: {suggestions[pred_class]['advice']}\")\n",
        "        print(f\"Description: {suggestions[pred_class]['description']}\")\n",
        "        print(\"-\"*60)\n",
        "\n",
        "\n",
        "print(f\"\\n✅ Processed {count} images.\")\n",
        "\n"
      ],
      "metadata": {
        "id": "z2gmwbY5_WNy"
      },
      "execution_count": null,
      "outputs": []
    },
    {
      "cell_type": "code",
      "source": [
        "# =========================\n",
        "# 6️⃣ Metrics\n",
        "# =========================\n",
        "print(\"\\n📊 Classification Report:\")\n",
        "print(classification_report(y_true, y_pred, target_names=class_labels))\n",
        "\n",
        "# Confusion Matrix\n",
        "cm = confusion_matrix(y_true, y_pred, labels=class_labels)\n",
        "plt.figure(figsize=(10,6))\n",
        "sns.heatmap(cm, annot=True, fmt=\"d\", xticklabels=class_labels, yticklabels=class_labels, cmap=\"Blues\")\n",
        "plt.xlabel(\"Predicted\")\n",
        "plt.ylabel(\"True\")\n",
        "plt.title(\"Confusion Matrix\")\n",
        "plt.show()"
      ],
      "metadata": {
        "id": "wjJ6KzIxPSwa"
      },
      "execution_count": null,
      "outputs": []
    },
    {
      "cell_type": "code",
      "source": [],
      "metadata": {
        "id": "fMZgSRdzaFoe"
      },
      "execution_count": null,
      "outputs": []
    },
    {
      "cell_type": "code",
      "source": [],
      "metadata": {
        "id": "3nXmPy9_aKE-"
      },
      "execution_count": null,
      "outputs": []
    },
    {
      "cell_type": "code",
      "source": [],
      "metadata": {
        "id": "hdEtAhtwaKCK"
      },
      "execution_count": null,
      "outputs": []
    },
    {
      "cell_type": "code",
      "source": [],
      "metadata": {
        "id": "QJx08V7BaKAC"
      },
      "execution_count": null,
      "outputs": []
    },
    {
      "cell_type": "code",
      "source": [],
      "metadata": {
        "id": "V2x7-UNcaJ0j"
      },
      "execution_count": null,
      "outputs": []
    }
  ],
  "metadata": {
    "colab": {
      "provenance": []
    },
    "kernelspec": {
      "display_name": "Python 3",
      "name": "python3"
    },
    "language_info": {
      "name": "python"
    }
  },
  "nbformat": 4,
  "nbformat_minor": 0
}